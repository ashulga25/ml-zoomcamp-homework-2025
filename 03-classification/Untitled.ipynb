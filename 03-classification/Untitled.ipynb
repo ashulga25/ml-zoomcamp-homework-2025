{
 "cells": [
  {
   "cell_type": "code",
   "execution_count": 4,
   "id": "2d7a0b16-964a-4875-af05-3cd149cc968c",
   "metadata": {},
   "outputs": [],
   "source": [
    "import pandas as pd\n",
    "import numpy as np\n",
    "\n",
    "import seaborn as sns\n",
    "from matplotlib import pyplot as plt\n",
    "%matplotlib inline"
   ]
  },
  {
   "cell_type": "code",
   "execution_count": 23,
   "id": "caa9795e-d516-4c26-a8b9-d7b77e684107",
   "metadata": {},
   "outputs": [
    {
     "data": {
      "text/plain": [
       "1462"
      ]
     },
     "execution_count": 23,
     "metadata": {},
     "output_type": "execute_result"
    }
   ],
   "source": [
    "df = pd.read_csv('https://raw.githubusercontent.com/alexeygrigorev/datasets/master/course_lead_scoring.csv')\n",
    "len(df)\n"
   ]
  },
  {
   "cell_type": "code",
   "execution_count": 24,
   "id": "4cab69f6-d309-4b9f-8a00-552db4c58b95",
   "metadata": {},
   "outputs": [
    {
     "data": {
      "text/plain": [
       "lead_source                  object\n",
       "industry                     object\n",
       "number_of_courses_viewed      int64\n",
       "annual_income               float64\n",
       "employment_status            object\n",
       "location                     object\n",
       "interaction_count             int64\n",
       "lead_score                  float64\n",
       "converted                     int64\n",
       "dtype: object"
      ]
     },
     "execution_count": 24,
     "metadata": {},
     "output_type": "execute_result"
    }
   ],
   "source": [
    "# eda\n",
    "df.dtypes"
   ]
  },
  {
   "cell_type": "code",
   "execution_count": 25,
   "id": "a7b4eee8-8551-483b-8e89-61c15b83ba41",
   "metadata": {},
   "outputs": [
    {
     "data": {
      "text/plain": [
       "Index(['lead_source', 'industry', 'employment_status', 'location'], dtype='object')"
      ]
     },
     "execution_count": 25,
     "metadata": {},
     "output_type": "execute_result"
    }
   ],
   "source": [
    "df.dtypes[df.dtypes == 'object'].index"
   ]
  },
  {
   "cell_type": "code",
   "execution_count": 26,
   "id": "cc3730b2-2d0a-4a40-9693-8313da11e504",
   "metadata": {},
   "outputs": [
    {
     "name": "stdout",
     "output_type": "stream",
     "text": [
      "lead_source\n",
      "0        paid_ads\n",
      "1    social_media\n",
      "2          events\n",
      "3        paid_ads\n",
      "4        referral\n",
      "Name: lead_source, dtype: object\n",
      "['paid_ads' 'social_media' 'events' 'referral' 'organic_search' nan]\n",
      "['paid_ads' 'social_media' 'events' 'referral' 'organic_search']\n",
      "5\n",
      "\n",
      "industry\n",
      "0           NaN\n",
      "1        retail\n",
      "2    healthcare\n",
      "3        retail\n",
      "4     education\n",
      "Name: industry, dtype: object\n",
      "[nan 'retail' 'healthcare' 'education' 'manufacturing' 'technology'\n",
      " 'other' 'finance']\n",
      "[nan 'retail' 'healthcare' 'education' 'manufacturing']\n",
      "7\n",
      "\n",
      "number_of_courses_viewed\n",
      "0    1\n",
      "1    1\n",
      "2    5\n",
      "3    2\n",
      "4    3\n",
      "Name: number_of_courses_viewed, dtype: int64\n",
      "[1 5 2 3 0 4 6 8 7 9]\n",
      "[1 5 2 3 0]\n",
      "10\n",
      "\n",
      "annual_income\n",
      "0    79450.0\n",
      "1    46992.0\n",
      "2    78796.0\n",
      "3    83843.0\n",
      "4    85012.0\n",
      "Name: annual_income, dtype: float64\n",
      "[79450. 46992. 78796. ... 45688. 71016. 92855.]\n",
      "[79450. 46992. 78796. 83843. 85012.]\n",
      "1267\n",
      "\n",
      "employment_status\n",
      "0       unemployed\n",
      "1         employed\n",
      "2       unemployed\n",
      "3              NaN\n",
      "4    self_employed\n",
      "Name: employment_status, dtype: object\n",
      "['unemployed' 'employed' nan 'self_employed' 'student']\n",
      "['unemployed' 'employed' nan 'self_employed' 'student']\n",
      "4\n",
      "\n",
      "location\n",
      "0    south_america\n",
      "1    south_america\n",
      "2        australia\n",
      "3        australia\n",
      "4           europe\n",
      "Name: location, dtype: object\n",
      "['south_america' 'australia' 'europe' 'africa' 'middle_east' nan\n",
      " 'north_america' 'asia']\n",
      "['south_america' 'australia' 'europe' 'africa' 'middle_east']\n",
      "7\n",
      "\n",
      "interaction_count\n",
      "0    4\n",
      "1    1\n",
      "2    3\n",
      "3    1\n",
      "4    3\n",
      "Name: interaction_count, dtype: int64\n",
      "[ 4  1  3  6  2  0  5  7  9  8 10 11]\n",
      "[4 1 3 6 2]\n",
      "12\n",
      "\n",
      "lead_score\n",
      "0    0.94\n",
      "1    0.80\n",
      "2    0.69\n",
      "3    0.87\n",
      "4    0.62\n",
      "Name: lead_score, dtype: float64\n",
      "[0.94 0.8  0.69 0.87 0.62 0.83 0.57 0.86 0.43 0.92 0.97 0.71 0.75 0.64\n",
      " 0.74 0.51 0.33 0.2  0.6  0.49 0.55 0.68 0.63 0.82 0.48 0.54 0.46 0.26\n",
      " 0.9  0.79 0.21 0.52 0.81 0.06 0.1  0.02 0.15 0.27 0.08 0.76 0.88 0.11\n",
      " 0.32 0.91 0.42 0.95 0.85 0.34 0.78 0.13 0.23 0.98 0.7  0.18 0.19 0.72\n",
      " 0.12 0.37 1.   0.38 0.61 0.04 0.5  0.35 0.24 0.3  0.58 0.96 0.22 0.\n",
      " 0.44 0.05 0.39 0.41 0.99 0.45 0.89 0.25 0.4  0.56 0.01 0.17 0.53 0.03\n",
      " 0.09 0.29 0.47 0.16 0.31 0.14 0.36 0.28 0.73 0.66 0.84 0.67 0.59 0.07\n",
      " 0.93 0.65 0.77]\n",
      "[0.94 0.8  0.69 0.87 0.62]\n",
      "101\n",
      "\n",
      "converted\n",
      "0    1\n",
      "1    0\n",
      "2    1\n",
      "3    0\n",
      "4    1\n",
      "Name: converted, dtype: int64\n",
      "[1 0]\n",
      "[1 0]\n",
      "2\n",
      "\n"
     ]
    }
   ],
   "source": [
    "for col in df.columns:\n",
    "    print(col)\n",
    "    print(df[col].head())\n",
    "    print(df[col].unique())\n",
    "    print(df[col].unique()[:5])\n",
    "    print(df[col].nunique())\n",
    "    print()\n",
    "    "
   ]
  },
  {
   "cell_type": "code",
   "execution_count": 27,
   "id": "02145695-7c21-40af-a5ed-45e8d1259c99",
   "metadata": {},
   "outputs": [],
   "source": [
    "categorical_columns = list(df.dtypes[df.dtypes =='object'].index)"
   ]
  },
  {
   "cell_type": "code",
   "execution_count": 28,
   "id": "747f64f9-e0f9-4b53-ad1c-5a96a83e67e5",
   "metadata": {},
   "outputs": [
    {
     "data": {
      "text/plain": [
       "['lead_source', 'industry', 'employment_status', 'location']"
      ]
     },
     "execution_count": 28,
     "metadata": {},
     "output_type": "execute_result"
    }
   ],
   "source": [
    "categorical_columns"
   ]
  },
  {
   "cell_type": "code",
   "execution_count": 29,
   "id": "37a2a6b9-0e60-44d4-91ba-3b2194ccff72",
   "metadata": {},
   "outputs": [
    {
     "data": {
      "text/plain": [
       "lead_source                 128\n",
       "industry                    134\n",
       "number_of_courses_viewed      0\n",
       "annual_income               181\n",
       "employment_status           100\n",
       "location                     63\n",
       "interaction_count             0\n",
       "lead_score                    0\n",
       "converted                     0\n",
       "dtype: int64"
      ]
     },
     "execution_count": 29,
     "metadata": {},
     "output_type": "execute_result"
    }
   ],
   "source": [
    "# DATA PREPARATION\n",
    "# We have annual_income of type float with nulls, replacing them with 0.0\n",
    "df.isnull().sum()\n",
    "#df = df['annual_income'].fillna(0.0)\n",
    "\n",
    "#df.isnull().sum()"
   ]
  },
  {
   "cell_type": "code",
   "execution_count": 40,
   "id": "24febec0-65eb-454d-98a1-d697d36163c5",
   "metadata": {},
   "outputs": [],
   "source": [
    "df_prepared = df\n",
    "df_prepared.annual_income = df_prepared.annual_income.fillna(0.0)\n",
    "\n",
    "categorical_columns = list(df_prepared.dtypes[df_prepared.dtypes == 'object'].index)\n",
    "\n",
    "for c in categorical_columns:\n",
    "    df_prepared[c] = df_prepared[c].fillna('NA')\n",
    "\n",
    "#df_prepared\n"
   ]
  },
  {
   "cell_type": "code",
   "execution_count": 41,
   "id": "082691f7-db02-4ca2-b4f6-9ba3c3207ba4",
   "metadata": {},
   "outputs": [
    {
     "data": {
      "text/plain": [
       "lead_source                 0\n",
       "industry                    0\n",
       "number_of_courses_viewed    0\n",
       "annual_income               0\n",
       "employment_status           0\n",
       "location                    0\n",
       "interaction_count           0\n",
       "lead_score                  0\n",
       "converted                   0\n",
       "dtype: int64"
      ]
     },
     "execution_count": 41,
     "metadata": {},
     "output_type": "execute_result"
    }
   ],
   "source": [
    "df_prepared.isnull().sum()"
   ]
  },
  {
   "cell_type": "code",
   "execution_count": 43,
   "id": "e3a5f504-2bf1-48f8-afc8-f8bf5bb886ed",
   "metadata": {},
   "outputs": [
    {
     "data": {
      "text/plain": [
       "0    retail\n",
       "Name: industry, dtype: object"
      ]
     },
     "execution_count": 43,
     "metadata": {},
     "output_type": "execute_result"
    }
   ],
   "source": [
    "# Q1 - Most frequesnt observstion in column industry. Answer - retail\n",
    "df_prepared.industry.mode()"
   ]
  },
  {
   "cell_type": "code",
   "execution_count": 48,
   "id": "127948c6-1c95-4bd5-b763-b51255b39a83",
   "metadata": {},
   "outputs": [
    {
     "data": {
      "text/plain": [
       "['interaction_count', 'number_of_courses_viewed']"
      ]
     },
     "execution_count": 48,
     "metadata": {},
     "output_type": "execute_result"
    }
   ],
   "source": [
    "# Q2 - correlation matrix - Answer: `\n",
    "annual_income and interaction_count`\n",
    "numerical1 = ['interaction_count', 'number_of_courses_viewed' ]\n",
    "numerical1"
   ]
  },
  {
   "cell_type": "code",
   "execution_count": 49,
   "id": "ca0a488a-0887-4ec8-8064-5cbef8279115",
   "metadata": {},
   "outputs": [
    {
     "data": {
      "text/plain": [
       "interaction_count           0.009888\n",
       "number_of_courses_viewed   -0.004879\n",
       "dtype: float64"
      ]
     },
     "execution_count": 49,
     "metadata": {},
     "output_type": "execute_result"
    }
   ],
   "source": [
    "df_prepared[numerical1].corrwith(df_prepared.lead_score)"
   ]
  },
  {
   "cell_type": "code",
   "execution_count": 51,
   "id": "40e25f2a-bf7c-4e01-856c-32626448840f",
   "metadata": {},
   "outputs": [
    {
     "data": {
      "text/plain": [
       "['number_of_courses_viewed', 'annual_income']"
      ]
     },
     "execution_count": 51,
     "metadata": {},
     "output_type": "execute_result"
    }
   ],
   "source": [
    "numerical2 = ['number_of_courses_viewed', 'annual_income' ]\n",
    "numerical2"
   ]
  },
  {
   "cell_type": "code",
   "execution_count": 52,
   "id": "3c5245dd-70f5-435b-95e6-8faa6dd0925f",
   "metadata": {},
   "outputs": [
    {
     "data": {
      "text/plain": [
       "number_of_courses_viewed   -0.023565\n",
       "annual_income               0.027036\n",
       "dtype: float64"
      ]
     },
     "execution_count": 52,
     "metadata": {},
     "output_type": "execute_result"
    }
   ],
   "source": [
    "df_prepared[numerical2].corrwith(df_prepared.interaction_count)"
   ]
  },
  {
   "cell_type": "code",
   "execution_count": 57,
   "id": "f34aea74-28cf-438f-b6ac-abd60a6607b1",
   "metadata": {},
   "outputs": [
    {
     "ename": "AttributeError",
     "evalue": "'Series' object has no attribute 'corrwith'",
     "output_type": "error",
     "traceback": [
      "\u001b[31m---------------------------------------------------------------------------\u001b[39m",
      "\u001b[31mAttributeError\u001b[39m                            Traceback (most recent call last)",
      "\u001b[32m/tmp/ipykernel_16336/2609238497.py\u001b[39m in \u001b[36m?\u001b[39m\u001b[34m()\u001b[39m\n\u001b[32m      1\u001b[39m num_from = [\u001b[33m'interaction_count'\u001b[39m, \u001b[33m'number_of_courses_viewed'\u001b[39m, \u001b[33m'number_of_courses_viewed'\u001b[39m, \u001b[33m'annual_income'\u001b[39m ]\n\u001b[32m      2\u001b[39m num_to = [\u001b[33m'lead_score'\u001b[39m, \u001b[33m'lead_score'\u001b[39m, \u001b[33m'interaction_count'\u001b[39m, \u001b[33m'interaction_count'\u001b[39m ]\n\u001b[32m      3\u001b[39m \n\u001b[32m      4\u001b[39m \u001b[38;5;28;01mfor\u001b[39;00m c \u001b[38;5;28;01min\u001b[39;00m num_from:\n\u001b[32m----> \u001b[39m\u001b[32m5\u001b[39m   result = df_prepared[c].corrwith(df_prepared[num_to])\n\u001b[32m      6\u001b[39m   result\n",
      "\u001b[32m~/.local/lib/python3.12/site-packages/pandas/core/generic.py\u001b[39m in \u001b[36m?\u001b[39m\u001b[34m(self, name)\u001b[39m\n\u001b[32m   6314\u001b[39m             \u001b[38;5;28;01mand\u001b[39;00m name \u001b[38;5;28;01mnot\u001b[39;00m \u001b[38;5;28;01min\u001b[39;00m self._accessors\n\u001b[32m   6315\u001b[39m             \u001b[38;5;28;01mand\u001b[39;00m self._info_axis._can_hold_identifiers_and_holds_name(name)\n\u001b[32m   6316\u001b[39m         ):\n\u001b[32m   6317\u001b[39m             \u001b[38;5;28;01mreturn\u001b[39;00m self[name]\n\u001b[32m-> \u001b[39m\u001b[32m6318\u001b[39m         \u001b[38;5;28;01mreturn\u001b[39;00m object.__getattribute__(self, name)\n",
      "\u001b[31mAttributeError\u001b[39m: 'Series' object has no attribute 'corrwith'"
     ]
    }
   ],
   "source": [
    "# num_from = ['interaction_count', 'number_of_courses_viewed', 'number_of_courses_viewed', 'annual_income' ]\n",
    "# num_to = ['lead_score', 'lead_score', 'interaction_count', 'interaction_count' ]\n",
    "\n",
    "# for c in num_from:\n",
    "#   result = df_prepared[c].corrwith(df_prepared[num_to])\n",
    "#   result"
   ]
  },
  {
   "cell_type": "code",
   "execution_count": null,
   "id": "d324aa2d-aef0-4643-82a1-0dc3e542db15",
   "metadata": {},
   "outputs": [],
   "source": []
  }
 ],
 "metadata": {
  "kernelspec": {
   "display_name": "Python 3 (ipykernel)",
   "language": "python",
   "name": "python3"
  },
  "language_info": {
   "codemirror_mode": {
    "name": "ipython",
    "version": 3
   },
   "file_extension": ".py",
   "mimetype": "text/x-python",
   "name": "python",
   "nbconvert_exporter": "python",
   "pygments_lexer": "ipython3",
   "version": "3.12.1"
  }
 },
 "nbformat": 4,
 "nbformat_minor": 5
}
