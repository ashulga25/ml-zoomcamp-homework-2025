{
 "cells": [
  {
   "cell_type": "code",
   "execution_count": 4,
   "id": "688cd9d9-5908-4fbe-a9a2-af2d15aa4c6f",
   "metadata": {},
   "outputs": [],
   "source": [
    "import pandas as pd\n",
    "import numpy as np\n",
    "\n",
    "import seaborn as sns\n",
    "from matplotlib import pyplot as plt\n",
    "%matplotlib inline"
   ]
  },
  {
   "cell_type": "code",
   "execution_count": 36,
   "id": "807f6e88-523d-41ad-8b67-6cf5be6368b3",
   "metadata": {},
   "outputs": [],
   "source": [
    "df = pd.read_csv('https://raw.githubusercontent.com/alexeygrigorev/datasets/master/car_fuel_efficiency.csv')\n",
    "\n",
    "# Preparations\n",
    "n = len(df)\n",
    "n_val = int(n*0.2)\n",
    "n_test = int(n*0.2)\n",
    "n_train = n - n_val - n_test\n",
    "\n",
    "base = [\"engine_displacement\", \"horsepower\", \"vehicle_weight\", \"model_year\"]"
   ]
  },
  {
   "cell_type": "code",
   "execution_count": 37,
   "id": "2742b24a-c230-49f0-b494-77a5e920782d",
   "metadata": {},
   "outputs": [
    {
     "data": {
      "text/html": [
       "<div>\n",
       "<style scoped>\n",
       "    .dataframe tbody tr th:only-of-type {\n",
       "        vertical-align: middle;\n",
       "    }\n",
       "\n",
       "    .dataframe tbody tr th {\n",
       "        vertical-align: top;\n",
       "    }\n",
       "\n",
       "    .dataframe thead th {\n",
       "        text-align: right;\n",
       "    }\n",
       "</style>\n",
       "<table border=\"1\" class=\"dataframe\">\n",
       "  <thead>\n",
       "    <tr style=\"text-align: right;\">\n",
       "      <th></th>\n",
       "      <th>engine_displacement</th>\n",
       "      <th>num_cylinders</th>\n",
       "      <th>horsepower</th>\n",
       "      <th>vehicle_weight</th>\n",
       "      <th>acceleration</th>\n",
       "      <th>model_year</th>\n",
       "      <th>origin</th>\n",
       "      <th>fuel_type</th>\n",
       "      <th>drivetrain</th>\n",
       "      <th>num_doors</th>\n",
       "      <th>fuel_efficiency_mpg</th>\n",
       "    </tr>\n",
       "  </thead>\n",
       "  <tbody>\n",
       "    <tr>\n",
       "      <th>0</th>\n",
       "      <td>170</td>\n",
       "      <td>3.0</td>\n",
       "      <td>159.0</td>\n",
       "      <td>3413.433759</td>\n",
       "      <td>17.7</td>\n",
       "      <td>2003</td>\n",
       "      <td>Europe</td>\n",
       "      <td>Gasoline</td>\n",
       "      <td>All-wheel drive</td>\n",
       "      <td>0.0</td>\n",
       "      <td>13.231729</td>\n",
       "    </tr>\n",
       "    <tr>\n",
       "      <th>1</th>\n",
       "      <td>130</td>\n",
       "      <td>5.0</td>\n",
       "      <td>97.0</td>\n",
       "      <td>3149.664934</td>\n",
       "      <td>17.8</td>\n",
       "      <td>2007</td>\n",
       "      <td>USA</td>\n",
       "      <td>Gasoline</td>\n",
       "      <td>Front-wheel drive</td>\n",
       "      <td>0.0</td>\n",
       "      <td>13.688217</td>\n",
       "    </tr>\n",
       "    <tr>\n",
       "      <th>2</th>\n",
       "      <td>170</td>\n",
       "      <td>NaN</td>\n",
       "      <td>78.0</td>\n",
       "      <td>3079.038997</td>\n",
       "      <td>15.1</td>\n",
       "      <td>2018</td>\n",
       "      <td>Europe</td>\n",
       "      <td>Gasoline</td>\n",
       "      <td>Front-wheel drive</td>\n",
       "      <td>0.0</td>\n",
       "      <td>14.246341</td>\n",
       "    </tr>\n",
       "    <tr>\n",
       "      <th>3</th>\n",
       "      <td>220</td>\n",
       "      <td>4.0</td>\n",
       "      <td>NaN</td>\n",
       "      <td>2542.392402</td>\n",
       "      <td>20.2</td>\n",
       "      <td>2009</td>\n",
       "      <td>USA</td>\n",
       "      <td>Diesel</td>\n",
       "      <td>All-wheel drive</td>\n",
       "      <td>2.0</td>\n",
       "      <td>16.912736</td>\n",
       "    </tr>\n",
       "    <tr>\n",
       "      <th>4</th>\n",
       "      <td>210</td>\n",
       "      <td>1.0</td>\n",
       "      <td>140.0</td>\n",
       "      <td>3460.870990</td>\n",
       "      <td>14.4</td>\n",
       "      <td>2009</td>\n",
       "      <td>Europe</td>\n",
       "      <td>Gasoline</td>\n",
       "      <td>All-wheel drive</td>\n",
       "      <td>2.0</td>\n",
       "      <td>12.488369</td>\n",
       "    </tr>\n",
       "    <tr>\n",
       "      <th>5</th>\n",
       "      <td>190</td>\n",
       "      <td>3.0</td>\n",
       "      <td>NaN</td>\n",
       "      <td>2484.883986</td>\n",
       "      <td>14.7</td>\n",
       "      <td>2008</td>\n",
       "      <td>Europe</td>\n",
       "      <td>Gasoline</td>\n",
       "      <td>All-wheel drive</td>\n",
       "      <td>-1.0</td>\n",
       "      <td>17.271818</td>\n",
       "    </tr>\n",
       "    <tr>\n",
       "      <th>6</th>\n",
       "      <td>240</td>\n",
       "      <td>7.0</td>\n",
       "      <td>127.0</td>\n",
       "      <td>3006.542287</td>\n",
       "      <td>22.2</td>\n",
       "      <td>2012</td>\n",
       "      <td>USA</td>\n",
       "      <td>Gasoline</td>\n",
       "      <td>Front-wheel drive</td>\n",
       "      <td>1.0</td>\n",
       "      <td>13.210412</td>\n",
       "    </tr>\n",
       "    <tr>\n",
       "      <th>7</th>\n",
       "      <td>150</td>\n",
       "      <td>4.0</td>\n",
       "      <td>239.0</td>\n",
       "      <td>3638.657780</td>\n",
       "      <td>17.3</td>\n",
       "      <td>2020</td>\n",
       "      <td>USA</td>\n",
       "      <td>Diesel</td>\n",
       "      <td>All-wheel drive</td>\n",
       "      <td>1.0</td>\n",
       "      <td>12.848884</td>\n",
       "    </tr>\n",
       "    <tr>\n",
       "      <th>8</th>\n",
       "      <td>250</td>\n",
       "      <td>1.0</td>\n",
       "      <td>174.0</td>\n",
       "      <td>2714.219310</td>\n",
       "      <td>10.3</td>\n",
       "      <td>2016</td>\n",
       "      <td>Asia</td>\n",
       "      <td>Diesel</td>\n",
       "      <td>Front-wheel drive</td>\n",
       "      <td>-1.0</td>\n",
       "      <td>16.823554</td>\n",
       "    </tr>\n",
       "    <tr>\n",
       "      <th>9</th>\n",
       "      <td>150</td>\n",
       "      <td>4.0</td>\n",
       "      <td>123.0</td>\n",
       "      <td>3509.036569</td>\n",
       "      <td>10.2</td>\n",
       "      <td>2005</td>\n",
       "      <td>USA</td>\n",
       "      <td>Gasoline</td>\n",
       "      <td>Front-wheel drive</td>\n",
       "      <td>-1.0</td>\n",
       "      <td>12.298355</td>\n",
       "    </tr>\n",
       "  </tbody>\n",
       "</table>\n",
       "</div>"
      ],
      "text/plain": [
       "   engine_displacement  num_cylinders  horsepower  vehicle_weight  \\\n",
       "0                  170            3.0       159.0     3413.433759   \n",
       "1                  130            5.0        97.0     3149.664934   \n",
       "2                  170            NaN        78.0     3079.038997   \n",
       "3                  220            4.0         NaN     2542.392402   \n",
       "4                  210            1.0       140.0     3460.870990   \n",
       "5                  190            3.0         NaN     2484.883986   \n",
       "6                  240            7.0       127.0     3006.542287   \n",
       "7                  150            4.0       239.0     3638.657780   \n",
       "8                  250            1.0       174.0     2714.219310   \n",
       "9                  150            4.0       123.0     3509.036569   \n",
       "\n",
       "   acceleration  model_year  origin fuel_type         drivetrain  num_doors  \\\n",
       "0          17.7        2003  Europe  Gasoline    All-wheel drive        0.0   \n",
       "1          17.8        2007     USA  Gasoline  Front-wheel drive        0.0   \n",
       "2          15.1        2018  Europe  Gasoline  Front-wheel drive        0.0   \n",
       "3          20.2        2009     USA    Diesel    All-wheel drive        2.0   \n",
       "4          14.4        2009  Europe  Gasoline    All-wheel drive        2.0   \n",
       "5          14.7        2008  Europe  Gasoline    All-wheel drive       -1.0   \n",
       "6          22.2        2012     USA  Gasoline  Front-wheel drive        1.0   \n",
       "7          17.3        2020     USA    Diesel    All-wheel drive        1.0   \n",
       "8          10.3        2016    Asia    Diesel  Front-wheel drive       -1.0   \n",
       "9          10.2        2005     USA  Gasoline  Front-wheel drive       -1.0   \n",
       "\n",
       "   fuel_efficiency_mpg  \n",
       "0            13.231729  \n",
       "1            13.688217  \n",
       "2            14.246341  \n",
       "3            16.912736  \n",
       "4            12.488369  \n",
       "5            17.271818  \n",
       "6            13.210412  \n",
       "7            12.848884  \n",
       "8            16.823554  \n",
       "9            12.298355  "
      ]
     },
     "execution_count": 37,
     "metadata": {},
     "output_type": "execute_result"
    }
   ],
   "source": [
    "# EDA\n",
    "df.head(10)\n"
   ]
  },
  {
   "cell_type": "code",
   "execution_count": 7,
   "id": "5b94b30e-108e-42f4-95f7-b3c98c4338e2",
   "metadata": {},
   "outputs": [
    {
     "data": {
      "text/plain": [
       "engine_displacement      int64\n",
       "num_cylinders          float64\n",
       "horsepower             float64\n",
       "vehicle_weight         float64\n",
       "acceleration           float64\n",
       "model_year               int64\n",
       "origin                  object\n",
       "fuel_type               object\n",
       "drivetrain              object\n",
       "num_doors              float64\n",
       "fuel_efficiency_mpg    float64\n",
       "dtype: object"
      ]
     },
     "execution_count": 7,
     "metadata": {},
     "output_type": "execute_result"
    }
   ],
   "source": [
    "df.dtypes\n"
   ]
  },
  {
   "cell_type": "code",
   "execution_count": 8,
   "id": "8c485a03-34ce-4034-bc15-e5be13de4b01",
   "metadata": {},
   "outputs": [
    {
     "data": {
      "text/plain": [
       "Index(['origin', 'fuel_type', 'drivetrain'], dtype='object')"
      ]
     },
     "execution_count": 8,
     "metadata": {},
     "output_type": "execute_result"
    }
   ],
   "source": [
    "df.dtypes[df.dtypes == 'object'].index"
   ]
  },
  {
   "cell_type": "code",
   "execution_count": 9,
   "id": "b41f1b30-6292-4bcb-b11f-3da35dd35d54",
   "metadata": {},
   "outputs": [
    {
     "name": "stdout",
     "output_type": "stream",
     "text": [
      "engine_displacement\n",
      "0    170\n",
      "1    130\n",
      "2    170\n",
      "3    220\n",
      "4    210\n",
      "Name: engine_displacement, dtype: int64\n",
      "[170 130 220 210 190 240 150 250 230 320 200 160 180 260 120 280  40  80\n",
      " 110 380 270 140 290 340 310 100  90 330 300 350  70  60 370  50  10  30]\n",
      "[170 130 220 210 190]\n",
      "36\n",
      "\n",
      "num_cylinders\n",
      "0    3.0\n",
      "1    5.0\n",
      "2    NaN\n",
      "3    4.0\n",
      "4    1.0\n",
      "Name: num_cylinders, dtype: float64\n",
      "[ 3.  5. nan  4.  1.  7.  6.  2.  8.  0.  9. 12. 10. 11. 13.]\n",
      "[ 3.  5. nan  4.  1.]\n",
      "14\n",
      "\n",
      "horsepower\n",
      "0    159.0\n",
      "1     97.0\n",
      "2     78.0\n",
      "3      NaN\n",
      "4    140.0\n",
      "Name: horsepower, dtype: float64\n",
      "[159.  97.  78.  nan 140. 127. 239. 174. 123. 100. 145. 193. 160. 179.\n",
      " 180. 132. 110. 126. 197. 133. 144. 156. 157. 206. 154. 153. 136. 168.\n",
      " 149. 143. 158. 176. 108. 125. 142. 139. 170. 135. 202.  99. 152. 148.\n",
      " 151. 155. 146. 199. 128. 103. 182. 141. 113. 109. 196. 111. 118. 222.\n",
      " 122. 194. 166. 101.  72. 232. 172. 165. 177. 190. 129. 184. 147. 137.\n",
      " 163. 162. 186. 104. 120. 200. 189. 167. 164. 191. 195.  96. 181.  71.\n",
      " 130. 150. 192. 217. 112. 220. 185.  83. 124. 161. 169.  98. 117. 134.\n",
      "  80.  92. 115. 121. 214.  94.  90. 210. 138. 198. 175. 183. 187. 173.\n",
      "  95. 131. 106. 204.  93. 114. 178. 207. 171. 188. 230.  87. 227. 119.\n",
      " 105. 102.  73. 208. 116.  79.  91. 209.  68. 237.  89.  82.  77. 213.\n",
      "  59. 216. 201.  66.  88.  53. 205. 223.  86.  43. 107. 203.  85. 215.\n",
      "  70.  75.  46.  69.  37. 211.  84.  76. 231.  63. 221. 226. 212. 229.\n",
      " 234. 218. 228. 219.  65. 246. 224.  81.  54.  74. 225. 233. 238.  55.\n",
      "  64. 244.  62. 240. 235. 271.  40.  57. 245. 252.  61.]\n",
      "[159.  97.  78.  nan 140.]\n",
      "192\n",
      "\n",
      "vehicle_weight\n",
      "0    3413.433759\n",
      "1    3149.664934\n",
      "2    3079.038997\n",
      "3    2542.392402\n",
      "4    3460.870990\n",
      "Name: vehicle_weight, dtype: float64\n",
      "[3413.43375861 3149.66493422 3079.03899737 ... 2583.47131761 2905.52738998\n",
      " 2908.04347736]\n",
      "[3413.43375861 3149.66493422 3079.03899737 2542.39240183 3460.87098999]\n",
      "9704\n",
      "\n",
      "acceleration\n",
      "0    17.7\n",
      "1    17.8\n",
      "2    15.1\n",
      "3    20.2\n",
      "4    14.4\n",
      "Name: acceleration, dtype: float64\n",
      "[17.7 17.8 15.1 20.2 14.4 14.7 22.2 17.3 10.3 10.2 15.4 12.6 17.5 14.9\n",
      " 16.   8.5  nan 17.9 18.7 16.4 12.9 20.  10.6 18.3 14.8 15.6 17.1 15.8\n",
      " 19.5 18.6 14.2 17.2 14.5 18.1 10.5 16.7 20.8 16.2 17.  16.9 13.   8.9\n",
      " 11.1 12.5 11.3 13.2 13.3 11.7 17.4 16.3 16.8 21.6 10.  18.2 15.5 19.4\n",
      " 14.6 13.5  9.8 11.  13.8 15.3 10.1 13.1 15.7 16.6 14.  13.4 12.1 11.8\n",
      " 13.7 15.  13.6 21.2 16.5 13.9 11.9 19.6 14.3 20.5 11.2 19.3 10.9 19.1\n",
      " 12.  15.2 16.1 10.4 11.6 15.9  9.5 18.4  8.8 12.8 18.8 20.6  9.7  9.6\n",
      " 21.8 17.6 12.7 14.1 19.2 21.  21.5 11.4 18.9 12.3 18.5 23.4 20.3 20.4\n",
      "  7.1  9.3  9.9 11.5 12.2  7.  19.  10.8  8.2  8.7 18.  22.1 12.4 21.1\n",
      "  9.2 10.7 20.7 22.7 19.7  8.  19.8 21.3  9.1 20.9 20.1 19.9  9.4 21.7\n",
      "  7.9  8.6  9.  23.8 22.6  8.1 21.9 22.5  8.4  7.4 22.  22.8 21.4 23.5\n",
      " 22.3  6.9  6.   8.3 22.9  7.3  6.4 24.3  7.8]\n",
      "[17.7 17.8 15.1 20.2 14.4]\n",
      "162\n",
      "\n",
      "model_year\n",
      "0    2003\n",
      "1    2007\n",
      "2    2018\n",
      "3    2009\n",
      "4    2009\n",
      "Name: model_year, dtype: int64\n",
      "[2003 2007 2018 2009 2008 2012 2020 2016 2005 2014 2010 2000 2006 2013\n",
      " 2011 2004 2002 2022 2017 2001 2023 2019 2015 2021]\n",
      "[2003 2007 2018 2009 2008]\n",
      "24\n",
      "\n",
      "origin\n",
      "0    Europe\n",
      "1       USA\n",
      "2    Europe\n",
      "3       USA\n",
      "4    Europe\n",
      "Name: origin, dtype: object\n",
      "['Europe' 'USA' 'Asia']\n",
      "['Europe' 'USA' 'Asia']\n",
      "3\n",
      "\n",
      "fuel_type\n",
      "0    Gasoline\n",
      "1    Gasoline\n",
      "2    Gasoline\n",
      "3      Diesel\n",
      "4    Gasoline\n",
      "Name: fuel_type, dtype: object\n",
      "['Gasoline' 'Diesel']\n",
      "['Gasoline' 'Diesel']\n",
      "2\n",
      "\n",
      "drivetrain\n",
      "0      All-wheel drive\n",
      "1    Front-wheel drive\n",
      "2    Front-wheel drive\n",
      "3      All-wheel drive\n",
      "4      All-wheel drive\n",
      "Name: drivetrain, dtype: object\n",
      "['All-wheel drive' 'Front-wheel drive']\n",
      "['All-wheel drive' 'Front-wheel drive']\n",
      "2\n",
      "\n",
      "num_doors\n",
      "0    0.0\n",
      "1    0.0\n",
      "2    0.0\n",
      "3    2.0\n",
      "4    2.0\n",
      "Name: num_doors, dtype: float64\n",
      "[ 0.  2. -1.  1. nan -2. -3.  3. -4.  4.]\n",
      "[ 0.  2. -1.  1. nan]\n",
      "9\n",
      "\n",
      "fuel_efficiency_mpg\n",
      "0    13.231729\n",
      "1    13.688217\n",
      "2    14.246341\n",
      "3    16.912736\n",
      "4    12.488369\n",
      "Name: fuel_efficiency_mpg, dtype: float64\n",
      "[13.23172891 13.68821744 14.246341   ... 17.18658678 15.33155059\n",
      " 14.8844674 ]\n",
      "[13.23172891 13.68821744 14.246341   16.9127356  12.48836912]\n",
      "9704\n",
      "\n"
     ]
    }
   ],
   "source": [
    "for col in df.columns:\n",
    "    print(col)\n",
    "    print(df[col].head())\n",
    "    print(df[col].unique())\n",
    "    print(df[col].unique()[:5])\n",
    "    print(df[col].nunique())\n",
    "    print()\n",
    "    "
   ]
  },
  {
   "cell_type": "code",
   "execution_count": null,
   "id": "a0b0f49b-fe1c-45b2-8426-975eacd2b9fc",
   "metadata": {},
   "outputs": [],
   "source": []
  },
  {
   "cell_type": "code",
   "execution_count": null,
   "id": "a48bf49b-e7b9-49d1-95b9-08bf8c0ad6ac",
   "metadata": {},
   "outputs": [],
   "source": []
  },
  {
   "cell_type": "code",
   "execution_count": 10,
   "id": "5da93119-d143-424d-b888-e47fe3b4afa0",
   "metadata": {},
   "outputs": [
    {
     "data": {
      "text/plain": [
       "<Axes: xlabel='fuel_efficiency_mpg', ylabel='Count'>"
      ]
     },
     "execution_count": 10,
     "metadata": {},
     "output_type": "execute_result"
    },
    {
     "data": {
      "image/png": "[encoded data removed]",
      "text/plain": [
       "<Figure size 640x480 with 1 Axes>"
      ]
     },
     "metadata": {},
     "output_type": "display_data"
    }
   ],
   "source": [
    "sns.histplot(df.fuel_efficiency_mpg, bins=50)\n",
    "# EDA - no, there is no long_tail for `fuel_efficiency_mpg` column!"
   ]
  },
  {
   "cell_type": "code",
   "execution_count": 30,
   "id": "095e4afe-e6d3-4dd6-8c44-380e70680e77",
   "metadata": {},
   "outputs": [],
   "source": [
    "# Preparation_fill_with_0s\n",
    "def prepare_X(df):\n",
    "    df_num = df[base]\n",
    "    df_num = df_num.fillna(0)\n",
    "    X = df_num.values\n",
    "    return X"
   ]
  },
  {
   "cell_type": "code",
   "execution_count": 104,
   "id": "46fc525a-5a40-4085-8b1a-99df1e9d36b0",
   "metadata": {},
   "outputs": [],
   "source": [
    "# Preparation_fill_with_ mean value\n",
    "def prepare_X_mean(df):\n",
    "    df_num = df[base]\n",
    "    print (df.horsepower.mean())\n",
    "    df_num = df_num.fillna(df.horsepower.mean())\n",
    "    X = df_num.values\n",
    "    return X"
   ]
  },
  {
   "cell_type": "code",
   "execution_count": 31,
   "id": "90d38c19-ba17-4cc9-8635-c3170daa846b",
   "metadata": {},
   "outputs": [],
   "source": [
    "# Train LA without regularization\n",
    "def train_linear_regression(X, y):\n",
    "    ones = np.ones(X.shape[0])\n",
    "    X = np.column_stack([ones, X])\n",
    "\n",
    "    XTX = X.T.dot(X)\n",
    "    XTX_inv = np.linalg.inv(XTX)\n",
    "    w = XTX_inv.dot(X.T).dot(y)\n",
    "    \n",
    "    return w[0], w[1:]\n",
    "    "
   ]
  },
  {
   "cell_type": "code",
   "execution_count": 32,
   "id": "291bae89-a13d-4d38-b625-92d1f4042d92",
   "metadata": {},
   "outputs": [],
   "source": [
    "# RMSE\n",
    "def rmse(y, y_pred):\n",
    "    error = y_pred - y\n",
    "    mse = (error ** 2).mean()\n",
    "    return np.sqrt(mse)"
   ]
  },
  {
   "cell_type": "code",
   "execution_count": 33,
   "id": "a38e21c4-07bf-4b06-a5e5-7697afd9e9cf",
   "metadata": {},
   "outputs": [],
   "source": [
    "# Regularization\n",
    "def train_linear_regression_reg(X, y, r=0.0):\n",
    "    ones = np.ones(X.shape[0])\n",
    "    X = np.column_stack([ones, X])\n",
    "\n",
    "    XTX = X.T.dot(X)\n",
    "    reg = r * np.eye(XTX.shape[0])\n",
    "    XTX = XTX + reg\n",
    "\n",
    "    XTX_inv = np.linalg.inv(XTX)\n",
    "    w_full = XTX_inv.dot(X.T).dot(y)\n",
    "    \n",
    "    return w_full[0], w_full[1:]"
   ]
  },
  {
   "cell_type": "code",
   "execution_count": 34,
   "id": "f9981029-a1d2-471d-a0d4-d46db12635f7",
   "metadata": {},
   "outputs": [
    {
     "data": {
      "text/plain": [
       "engine_displacement      0\n",
       "num_cylinders          482\n",
       "horsepower             708\n",
       "vehicle_weight           0\n",
       "acceleration           930\n",
       "model_year               0\n",
       "origin                   0\n",
       "fuel_type                0\n",
       "drivetrain               0\n",
       "num_doors              502\n",
       "fuel_efficiency_mpg      0\n",
       "dtype: int64"
      ]
     },
     "execution_count": 34,
     "metadata": {},
     "output_type": "execute_result"
    }
   ],
   "source": [
    "# Q1 - Which column among 4 provided has missing values:\n",
    "# Answer - column `horsepower`\n",
    "df.isnull().sum()\n"
   ]
  },
  {
   "cell_type": "code",
   "execution_count": 97,
   "id": "d90589a7-b83f-4881-880b-175ab218ef57",
   "metadata": {},
   "outputs": [
    {
     "data": {
      "text/plain": [
       "np.float64(149.65729212983547)"
      ]
     },
     "execution_count": 97,
     "metadata": {},
     "output_type": "execute_result"
    }
   ],
   "source": [
    "# Q2 - Median for variable `horsepower` - \n",
    "# Answer - 149\n",
    "df['horsepower'].mean()"
   ]
  },
  {
   "cell_type": "code",
   "execution_count": 98,
   "id": "92135629-7636-4d25-b862-6539343b16d9",
   "metadata": {},
   "outputs": [
    {
     "data": {
      "text/plain": [
       "0    152.0\n",
       "Name: horsepower, dtype: float64"
      ]
     },
     "execution_count": 98,
     "metadata": {},
     "output_type": "execute_result"
    }
   ],
   "source": [
    "df['horsepower'].mode()"
   ]
  },
  {
   "cell_type": "code",
   "execution_count": null,
   "id": "5d406438-9924-4999-9099-30f6ca5030bf",
   "metadata": {},
   "outputs": [],
   "source": []
  },
  {
   "cell_type": "code",
   "execution_count": 111,
   "id": "ec92d288-6936-46ec-80f8-091d5f492e6b",
   "metadata": {},
   "outputs": [],
   "source": [
    "# Q 3 - Preparations\n",
    "seed = 42\n",
    "std_val_list = []\n",
    "\n",
    "np.random.seed(seed)\n",
    "\n",
    "idx = np.arange(n)\n",
    "np.random.shuffle(idx)\n",
    "df_shuffled = df.iloc[idx]\n",
    "    \n",
    "# spliting dataset\n",
    "df_train = df_shuffled.iloc[:n_train].copy()\n",
    "df_val = df_shuffled.iloc[n_train:n_train + n_val].copy()\n",
    "df_test = df_shuffled.iloc[n_train + n_val:].copy()\n",
    "\n",
    "# copying the target parameter\n",
    "y_train = df_train.fuel_efficiency_mpg.values\n",
    "y_val = df_val.fuel_efficiency_mpg.values\n",
    "y_test = df_test.fuel_efficiency_mpg.values\n",
    "\n",
    "# remove target parameter from original dataset\n",
    "del df_train['fuel_efficiency_mpg']\n",
    "del df_val['fuel_efficiency_mpg']\n",
    "del df_test['fuel_efficiency_mpg']\n",
    "\n"
   ]
  },
  {
   "cell_type": "code",
   "execution_count": 112,
   "id": "0e89f9cc-adb6-4dc0-9e43-909eb42451b8",
   "metadata": {},
   "outputs": [
    {
     "name": "stdout",
     "output_type": "stream",
     "text": [
      "filled with 0s w_0=28.82736547, rmse-score-val=0.52\n"
     ]
    }
   ],
   "source": [
    "# Q 3.1 filling with NAs with 0s\n",
    "# Training model with 0s for NAs\n",
    "\n",
    "X_train = prepare_X(df_train)\n",
    "w_0, w = train_linear_regression(X_train, y_train)\n",
    "y_pred = w_0 + X_train.dot(w)\n",
    "\n",
    "# evaluation over validation dataset\n",
    "X_val = prepare_X(df_val)\n",
    "y_pred_val = w_0 + X_val.dot(w)\n",
    "    \n",
    "# RMSE score for validation\n",
    "score_val_nulls = rmse(y_val, y_pred_val)\n",
    "    \n",
    "    \n",
    "# print some details:\n",
    "print('filled with 0s w_0=%.8f, rmse-score-val=%.2f' % (w_0, score_val_nulls))"
   ]
  },
  {
   "cell_type": "code",
   "execution_count": 113,
   "id": "9b1928ce-1dd0-4e8a-aaaf-a429c82e4e71",
   "metadata": {},
   "outputs": [
    {
     "name": "stdout",
     "output_type": "stream",
     "text": [
      "149.54476367006487\n",
      "filled with 149.54476367006487, w_0=28.92525995, rmse-score-val=0.61\n"
     ]
    }
   ],
   "source": [
    "# Q 3 - 3.2 filling with NAs with means\n",
    "# Training model with 0s for NAs\n",
    "X_train = prepare_X_mean(df_train)\n",
    "w_0, w = train_linear_regression(X_train, y_train)\n",
    "y_pred = w_0 + X_train.dot(w)\n",
    "\n",
    "# evaluation over validation dataset\n",
    "X_val = prepare_X(df_val)\n",
    "y_pred_val = w_0 + X_val.dot(w)\n",
    "    \n",
    "# RMSE score for validation\n",
    "score_val_means = rmse(y_val, y_pred_val)    \n",
    "    \n",
    "# print some details:\n",
    "print('filled with %s, w_0=%.8f, rmse-score-val=%.2f' % (df_train.horsepower.mean(), w_0, score_val_means))"
   ]
  },
  {
   "cell_type": "code",
   "execution_count": null,
   "id": "77d11099-27bd-40e2-8e08-b6f3e3c831c9",
   "metadata": {},
   "outputs": [],
   "source": [
    "# not relevant tested different seeds behavior\n",
    "seed 42\n",
    "filled with 0s w_0=28.82736547, rmse-score-val=0.52\n",
    "filled with 149.54476367006487, w_0=28.92525995, rmse-score-val=0.61\n",
    "\n",
    "seed 56\n",
    "filled with 0s w_0=25.93385892, rmse-score-val=0.51\n",
    "filled with 149.08747440908246, w_0=27.13117490, rmse-score-val=0.58\n"
   ]
  },
  {
   "cell_type": "code",
   "execution_count": null,
   "id": "d13930aa-9f2f-422f-895e-bcc20678e4db",
   "metadata": {},
   "outputs": [],
   "source": []
  },
  {
   "cell_type": "code",
   "execution_count": 96,
   "id": "55a94836-49e9-4225-95d0-3860d70d6e08",
   "metadata": {},
   "outputs": [
    {
     "name": "stdout",
     "output_type": "stream",
     "text": [
      "r= 0, w_0=28.82736547, rmse-score-val=0.52\n",
      "r=0.01, w_0=24.92683842, rmse-score-val=0.52\n",
      "r=0.1, w_0=11.23966108, rmse-score-val=0.52\n",
      "r= 1, w_0=1.73159794, rmse-score-val=0.52\n",
      "r= 5, w_0=0.36380750, rmse-score-val=0.52\n",
      "r=10, w_0=0.18306247, rmse-score-val=0.52\n",
      "r=100, w_0=0.01841802, rmse-score-val=0.52\n"
     ]
    }
   ],
   "source": [
    "# Q 4 - Train Regularized Linear regression\n",
    "seed = 42\n",
    "std_val_list = []\n",
    "\n",
    "np.random.seed(seed)\n",
    "\n",
    "idx = np.arange(n)\n",
    "np.random.shuffle(idx)\n",
    "df_shuffled = df.iloc[idx]\n",
    "    \n",
    "# spliting dataset\n",
    "df_train = df_shuffled.iloc[:n_train].copy()\n",
    "df_val = df_shuffled.iloc[n_train:n_train + n_val].copy()\n",
    "df_test = df_shuffled.iloc[n_train + n_val:].copy()\n",
    "\n",
    "# copying the target parameter\n",
    "y_train = df_train.fuel_efficiency_mpg.values\n",
    "y_val = df_val.fuel_efficiency_mpg.values\n",
    "y_test = df_test.fuel_efficiency_mpg.values\n",
    "\n",
    "# remove target parameter from original dataset\n",
    "del df_train['fuel_efficiency_mpg']\n",
    "del df_val['fuel_efficiency_mpg']\n",
    "del df_test['fuel_efficiency_mpg']\n",
    "\n",
    "for r in [0, 0.01, 0.1, 1, 5, 10, 100]:\n",
    "    \n",
    "    # train model, by filling NAs with 0s\n",
    "    X_train = prepare_X(df_train)\n",
    "    w_0, w = train_linear_regression_reg(X_train, y_train, r=r)\n",
    "    y_pred = w_0 + X_train.dot(w)\n",
    "\n",
    "    # evaluation over validation dataset\n",
    "    X_val = prepare_X(df_val)\n",
    "    y_pred_val = w_0 + X_val.dot(w)\n",
    "    \n",
    "    # RMSE score for validation\n",
    "    score_val = rmse(y_val, y_pred_val)\n",
    "    \n",
    "    std_val_list.append(score_val)\n",
    "    \n",
    "    # print some details:\n",
    "    print('r=%2s, w_0=%.8f, rmse-score-val=%.2f' % (r, w_0, score_val))\n"
   ]
  },
  {
   "cell_type": "markdown",
   "id": "796bf843-a7a3-4203-9b26-c1825d631053",
   "metadata": {},
   "source": []
  },
  {
   "cell_type": "code",
   "execution_count": 88,
   "id": "6a70f669-8fb8-4325-9c1d-cf497e2cc299",
   "metadata": {},
   "outputs": [
    {
     "name": "stdout",
     "output_type": "stream",
     "text": [
      "seed=0, w_0=27.37638875, rmse-score-train=0.51715609, rmse-score-val=0.52065313\n",
      "seed=1, w_0=29.02246855, rmse-score-train=0.51485293, rmse-score-val=0.52133889\n",
      "seed=2, w_0=25.90435761, rmse-score-train=0.52055831, rmse-score-val=0.52280700\n",
      "seed=3, w_0=28.01545007, rmse-score-train=0.51986648, rmse-score-val=0.51595167\n",
      "seed=4, w_0=25.93400040, rmse-score-train=0.51716755, rmse-score-val=0.51091295\n",
      "seed=5, w_0=25.89950696, rmse-score-train=0.51951775, rmse-score-val=0.52834065\n",
      "seed=6, w_0=25.91723093, rmse-score-train=0.51241150, rmse-score-val=0.53139107\n",
      "seed=7, w_0=28.41432473, rmse-score-train=0.52476363, rmse-score-val=0.50906704\n",
      "seed=8, w_0=26.47841783, rmse-score-train=0.52430639, rmse-score-val=0.51473991\n",
      "seed=9, w_0=27.51385258, rmse-score-train=0.52197098, rmse-score-val=0.51318659\n",
      "std_pred=0.004, std_val=0.007\n"
     ]
    }
   ],
   "source": [
    "# Q 5 - Training with different seeds\n",
    "std_val_list = []\n",
    "std_pred_list = []\n",
    "\n",
    "for seed_from_list in [0, 1, 2, 3, 4, 5, 6, 7, 8, 9]:\n",
    "    np.random.seed(seed_from_list)\n",
    "    idx = np.arange(n)\n",
    "    np.random.shuffle(idx)\n",
    "    df_shuffled = df.iloc[idx]\n",
    "    \n",
    "    # spliting dataset\n",
    "    df_train = df_shuffled.iloc[:n_train].copy()\n",
    "    df_val = df_shuffled.iloc[n_train:n_train + n_val].copy()\n",
    "    df_test = df_shuffled.iloc[n_train + n_val:].copy()\n",
    "\n",
    "    # copying the target parameter\n",
    "    y_train = df_train.fuel_efficiency_mpg.values\n",
    "    y_val = df_val.fuel_efficiency_mpg.values\n",
    "    y_test = df_test.fuel_efficiency_mpg.values\n",
    "\n",
    "    # remove target parameter from original dataset\n",
    "    del df_train['fuel_efficiency_mpg']\n",
    "    del df_val['fuel_efficiency_mpg']\n",
    "    del df_test['fuel_efficiency_mpg']\n",
    "\n",
    "    # train model\n",
    "    X_train = prepare_X(df_train)\n",
    "    w_0, w = train_linear_regression(X_train, y_train)\n",
    "\n",
    "    y_pred = w_0 + X_train.dot(w)\n",
    "\n",
    "    # RMSE score for train\n",
    "    score_train = rmse(y_train, y_pred)\n",
    "    \n",
    "    std_pred_list.append(score_train)\n",
    "\n",
    "    # evaluation over validation dataset\n",
    "    X_val = prepare_X(df_val)\n",
    "    y_pred_val = w_0 + X_val.dot(w)\n",
    "    \n",
    "    # RMSE score for validation\n",
    "    score_val = rmse(y_val, y_pred_val)\n",
    "    \n",
    "    std_val_list.append(score_val)\n",
    "    \n",
    "    # print some details:\n",
    "    print('seed=%s, w_0=%.8f, rmse-score-train=%.8f, rmse-score-val=%.8f' % (seed_from_list, w_0, score_train, score_val))\n",
    "\n",
    "\n",
    "# Calculatiing STD\n",
    "std_pred = np.std(std_pred_list)\n",
    "\n",
    "std_val = np.std(std_val_list)\n",
    "\n",
    "print(\"std_pred=%.3f, std_val=%.3f\" % (std_pred, std_dev))"
   ]
  },
  {
   "cell_type": "code",
   "execution_count": null,
   "id": "31bf4981-a402-407b-8631-c78fa0ec2c7c",
   "metadata": {},
   "outputs": [],
   "source": []
  },
  {
   "cell_type": "code",
   "execution_count": 54,
   "id": "fa794a66-b7f8-49ff-8f88-aa0e2a0c8451",
   "metadata": {},
   "outputs": [
    {
     "data": {
      "text/plain": [
       "array([9066, 3073, 2476, ..., 6782, 4444, 8574], shape=(9704,))"
      ]
     },
     "execution_count": 54,
     "metadata": {},
     "output_type": "execute_result"
    }
   ],
   "source": [
    "# Q 6.0 - Shuffle dataset using seed 9 and split it \n",
    "# Q 6.0.1 - shuffling with seed 9\n",
    "np.random.seed(9)\n",
    "\n",
    "idx = np.arange(n)\n",
    "np.random.shuffle(idx)\n",
    "idx"
   ]
  },
  {
   "cell_type": "code",
   "execution_count": 41,
   "id": "d56a5458-c763-4cfb-80a2-89216b93f2fc",
   "metadata": {},
   "outputs": [],
   "source": [
    "df_shuffled = df.iloc[idx]\n",
    "#df_shuffled"
   ]
  },
  {
   "cell_type": "code",
   "execution_count": 86,
   "id": "0a1717e4-eb7f-4be5-a8f7-b5750b223e61",
   "metadata": {},
   "outputs": [],
   "source": [
    "# Q 6.0.2 spliting dataset\n",
    "df_train = df_shuffled.iloc[:n_train].copy()\n",
    "df_val = df_shuffled.iloc[n_train:n_train + n_val].copy()\n",
    "df_test = df_shuffled.iloc[n_train + n_val:].copy()\n",
    "\n",
    "# Q 6.0.3 - copying the target parameter\n",
    "y_train = df_train.fuel_efficiency_mpg.values\n",
    "y_val = df_val.fuel_efficiency_mpg.values\n",
    "y_test = df_test.fuel_efficiency_mpg.values\n",
    "\n",
    "# Q 6.0.4 - remove target parameter from original dataset\n",
    "del df_train['fuel_efficiency_mpg']\n",
    "del df_val['fuel_efficiency_mpg']\n",
    "del df_test['fuel_efficiency_mpg']\n"
   ]
  },
  {
   "cell_type": "code",
   "execution_count": 87,
   "id": "898735a2-3b66-4c4b-b86a-e0d804941f49",
   "metadata": {},
   "outputs": [
    {
     "data": {
      "text/plain": [
       "array([10.30469994, 13.47943378, 16.19065297, ..., 10.59243514,\n",
       "       17.11926051, 18.11450381], shape=(5824,))"
      ]
     },
     "execution_count": 87,
     "metadata": {},
     "output_type": "execute_result"
    }
   ],
   "source": [
    "y_train"
   ]
  },
  {
   "cell_type": "code",
   "execution_count": 88,
   "id": "671f68d5-4895-4377-9366-170ebb1090cf",
   "metadata": {},
   "outputs": [
    {
     "data": {
      "text/plain": [
       "array([15.93165683, 13.13035472, 22.85815569, ..., 13.67814034,\n",
       "       17.59323665, 16.06897494], shape=(1940,))"
      ]
     },
     "execution_count": 88,
     "metadata": {},
     "output_type": "execute_result"
    }
   ],
   "source": [
    "y_val"
   ]
  },
  {
   "cell_type": "code",
   "execution_count": 89,
   "id": "7d14aad6-aab7-4444-8c4f-e8cd13c04d7e",
   "metadata": {},
   "outputs": [
    {
     "data": {
      "text/plain": [
       "array([11.67579118, 16.7303261 , 11.83102773, ..., 13.24562126,\n",
       "       15.21527037, 14.50900005], shape=(1940,))"
      ]
     },
     "execution_count": 89,
     "metadata": {},
     "output_type": "execute_result"
    }
   ],
   "source": [
    "y_test"
   ]
  },
  {
   "cell_type": "code",
   "execution_count": 90,
   "id": "9bd00cd9-9f34-453e-8288-8fe0825eda8b",
   "metadata": {},
   "outputs": [],
   "source": [
    "#base = [\"engine_displacement\", \"horsepower\", \"vehicle_weight\", \"model_year\"]"
   ]
  },
  {
   "cell_type": "code",
   "execution_count": 63,
   "id": "8c0c4fa4-8db4-4446-9b3d-ab4d767f1df6",
   "metadata": {},
   "outputs": [
    {
     "data": {
      "text/plain": [
       "np.float64(27.513852581224892)"
      ]
     },
     "execution_count": 63,
     "metadata": {},
     "output_type": "execute_result"
    }
   ],
   "source": [
    "X_train = prepare_X(df_train)\n",
    "w_0, w = train_linear_regression(X_train, y_train)\n",
    "w_0\n"
   ]
  },
  {
   "cell_type": "code",
   "execution_count": 64,
   "id": "c5b1b81f-a37f-4d97-8974-d8337e5898d0",
   "metadata": {},
   "outputs": [
    {
     "data": {
      "text/plain": [
       "array([-7.49245681e-05,  3.51310422e-03, -5.02056083e-03,  1.02939922e-03])"
      ]
     },
     "execution_count": 64,
     "metadata": {},
     "output_type": "execute_result"
    }
   ],
   "source": [
    "w"
   ]
  },
  {
   "cell_type": "code",
   "execution_count": 65,
   "id": "21a70823-29ab-4330-8b96-705d9c09ee3f",
   "metadata": {},
   "outputs": [
    {
     "data": {
      "text/plain": [
       "array([ 9.70278433, 14.02621843, 15.12894597, ..., 11.21621524,\n",
       "       16.68266515, 18.18930683], shape=(5824,))"
      ]
     },
     "execution_count": 65,
     "metadata": {},
     "output_type": "execute_result"
    }
   ],
   "source": [
    "y_pred = w_0 + X_train.dot(w)\n",
    "y_pred\n"
   ]
  },
  {
   "cell_type": "code",
   "execution_count": 66,
   "id": "9729c94e-aa43-42e7-99ba-e383060a1935",
   "metadata": {},
   "outputs": [
    {
     "data": {
      "image/png": "[encoded data removed]",
      "text/plain": [
       "<Figure size 600x400 with 1 Axes>"
      ]
     },
     "metadata": {},
     "output_type": "display_data"
    }
   ],
   "source": [
    "plt.figure(figsize=(6, 4))\n",
    "\n",
    "sns.histplot(y_train, label='target', color='red', alpha=0.6, bins=40)\n",
    "sns.histplot(y_pred, label='prediction', color='#aaaaaa', alpha=0.8, bins=40)\n",
    "\n",
    "plt.legend()\n",
    "\n",
    "plt.ylabel('Frequency')\n",
    "plt.xlabel('Fuel_efficiency_mpg')\n",
    "plt.title('Predictions (gray) vs actual distribution (red)')\n",
    "\n",
    "plt.show()"
   ]
  },
  {
   "cell_type": "code",
   "execution_count": 68,
   "id": "b8822ea8-9719-4e84-a831-16e28b75f523",
   "metadata": {},
   "outputs": [
    {
     "name": "stdout",
     "output_type": "stream",
     "text": [
      "rmse-train: 0.5219709782195826\n"
     ]
    }
   ],
   "source": [
    "print('rmse-train:', rmse(y_train, y_pred))"
   ]
  },
  {
   "cell_type": "code",
   "execution_count": 69,
   "id": "69c3ff0b-0a97-44bd-87d5-b2666cca6461",
   "metadata": {},
   "outputs": [
    {
     "data": {
      "text/plain": [
       "array([[ 180.        ,  175.        , 2775.38174341, 2014.        ],\n",
       "       [ 160.        ,  166.        , 3542.65518304, 2012.        ],\n",
       "       [ 250.        ,  173.        , 1354.78712044, 2007.        ],\n",
       "       ...,\n",
       "       [ 180.        ,  154.        , 3346.96567067, 2018.        ],\n",
       "       [ 210.        ,  152.        , 2500.17568746, 2020.        ],\n",
       "       [ 260.        ,  174.        , 2702.25730066, 2011.        ]],\n",
       "      shape=(1940, 4))"
      ]
     },
     "execution_count": 69,
     "metadata": {},
     "output_type": "execute_result"
    }
   ],
   "source": [
    "X_val = prepare_X(df_val)\n",
    "X_val"
   ]
  },
  {
   "cell_type": "code",
   "execution_count": 70,
   "id": "9142e96c-a3db-4855-a679-48f3263cb4ff",
   "metadata": {},
   "outputs": [
    {
     "data": {
      "text/plain": [
       "array([16.25439654, 12.37007532, 23.36710155, ..., 13.31506707,\n",
       "       17.55921255, 16.60892699], shape=(1940,))"
      ]
     },
     "execution_count": 70,
     "metadata": {},
     "output_type": "execute_result"
    }
   ],
   "source": [
    "y_val_pred = w_0 + X_val.dot(w)\n",
    "y_val_pred"
   ]
  },
  {
   "cell_type": "code",
   "execution_count": 71,
   "id": "5f2a7e7f-f8f7-4d72-9564-c990106e6a31",
   "metadata": {},
   "outputs": [
    {
     "name": "stdout",
     "output_type": "stream",
     "text": [
      "rmse-validation: 0.5131865908224594\n"
     ]
    }
   ],
   "source": [
    "print('rmse-validation:', rmse(y_val, y_val_pred))"
   ]
  },
  {
   "cell_type": "code",
   "execution_count": 73,
   "id": "296eb95d-6054-40b1-abc4-3b26665209c4",
   "metadata": {},
   "outputs": [],
   "source": [
    "df_full_train = pd.concat([df_train, df_val])\n",
    "df_full_train = df_full_train.reset_index(drop=True)"
   ]
  },
  {
   "cell_type": "code",
   "execution_count": 75,
   "id": "6aa46d57-80d5-459c-b786-8a8d91f023c8",
   "metadata": {},
   "outputs": [
    {
     "data": {
      "text/plain": [
       "array([[ 240.        ,  136.        , 4050.51228957, 2006.        ],\n",
       "       [ 190.        ,  141.        , 3195.86694158, 2017.        ],\n",
       "       [ 200.        ,  184.        , 3006.16436968, 2017.        ],\n",
       "       ...,\n",
       "       [ 180.        ,  154.        , 3346.96567067, 2018.        ],\n",
       "       [ 210.        ,  152.        , 2500.17568746, 2020.        ],\n",
       "       [ 260.        ,  174.        , 2702.25730066, 2011.        ]],\n",
       "      shape=(7764, 4))"
      ]
     },
     "execution_count": 75,
     "metadata": {},
     "output_type": "execute_result"
    }
   ],
   "source": [
    "X_full_train = prepare_X(df_full_train)\n",
    "X_full_train"
   ]
  },
  {
   "cell_type": "code",
   "execution_count": 76,
   "id": "5956e4fe-ce5b-49e5-b26b-e320cf84aa92",
   "metadata": {},
   "outputs": [
    {
     "data": {
      "text/plain": [
       "array([10.30469994, 13.47943378, 16.19065297, ..., 13.67814034,\n",
       "       17.59323665, 16.06897494], shape=(7764,))"
      ]
     },
     "execution_count": 76,
     "metadata": {},
     "output_type": "execute_result"
    }
   ],
   "source": [
    "y_full_train = np.concatenate([y_train, y_val])\n",
    "y_full_train"
   ]
  },
  {
   "cell_type": "code",
   "execution_count": 80,
   "id": "69114b80-eb38-42f0-be49-10e7bd25599f",
   "metadata": {},
   "outputs": [
    {
     "data": {
      "text/plain": [
       "array([[ 240.        ,    0.        , 3629.91297555, 2003.        ],\n",
       "       [ 230.        ,  183.        , 2675.51037108, 2011.        ],\n",
       "       [ 270.        ,  176.        , 3751.00598701, 2017.        ],\n",
       "       ...,\n",
       "       [ 240.        ,  177.        , 3348.84005177, 2010.        ],\n",
       "       [ 250.        ,  150.        , 2985.70463023, 2022.        ],\n",
       "       [ 230.        ,  192.        , 3124.47364193, 2014.        ]],\n",
       "      shape=(1940, 4))"
      ]
     },
     "execution_count": 80,
     "metadata": {},
     "output_type": "execute_result"
    }
   ],
   "source": [
    "X_test = prepare_X(df_test)\n",
    "X_test"
   ]
  },
  {
   "cell_type": "code",
   "execution_count": 81,
   "id": "9bd20f98-79b4-4a3b-993c-98de9e8358c9",
   "metadata": {},
   "outputs": [
    {
     "name": "stdout",
     "output_type": "stream",
     "text": [
      "   10, 0.23\n"
     ]
    }
   ],
   "source": [
    "print('%5s, %.2f' % (r, w_0))"
   ]
  },
  {
   "cell_type": "code",
   "execution_count": 100,
   "id": "9daf4ea8-c8a6-435a-a4b6-1be508ec246f",
   "metadata": {},
   "outputs": [
    {
     "name": "stdout",
     "output_type": "stream",
     "text": [
      "rmse-validation: 0.5156261299169602\n"
     ]
    }
   ],
   "source": [
    "y_test_pred = w_0 + X_test.dot(w)\n",
    "# y_test_pred\n",
    "print('rmse-validation:', rmse(y_test, y_test_pred))"
   ]
  },
  {
   "cell_type": "code",
   "execution_count": 101,
   "id": "23f87276-1e2b-48d8-9755-e442f54f56bd",
   "metadata": {},
   "outputs": [
    {
     "name": "stdout",
     "output_type": "stream",
     "text": [
      "r=0.001,  w_0=26.9468,  score=0.515626\n"
     ]
    }
   ],
   "source": [
    "# Q 6.4 - calculating RMSE\n",
    "for r in [0.001]:\n",
    "    w_0, w = train_linear_regression_reg(X_full_train, y_full_train, r=r)\n",
    "    y_test_pred = w_0 + X_test.dot(w)\n",
    "    score = rmse(y_test_pred, y_test)\n",
    "    print('r=%5s,  w_0=%.4f,  score=%5f' % (r, w_0, score))"
   ]
  },
  {
   "cell_type": "code",
   "execution_count": 98,
   "id": "4d66c528-43cd-4c13-9788-6938334f4af0",
   "metadata": {},
   "outputs": [
    {
     "data": {
      "image/png": "[encoded data removed]",
      "text/plain": [
       "<Figure size 600x400 with 1 Axes>"
      ]
     },
     "metadata": {},
     "output_type": "display_data"
    }
   ],
   "source": [
    "# Q 6.5 - graph\n",
    "plt.figure(figsize=(6, 4))\n",
    "\n",
    "sns.histplot(y_test, label='target', color='red', alpha=0.6, bins=40)\n",
    "sns.histplot(y_test_pred, label='prediction', color='#aaaaaa', alpha=0.8, bins=40)\n",
    "\n",
    "plt.legend()\n",
    "\n",
    "plt.ylabel('Frequency')\n",
    "plt.xlabel('Fuel_efficiency_mpg')\n",
    "plt.title('Predictions (gray) vs actual distribution (red)')\n",
    "\n",
    "plt.show()"
   ]
  },
  {
   "cell_type": "code",
   "execution_count": null,
   "id": "6b7e4881-286a-4ca8-8fae-d7d4c10a4ff7",
   "metadata": {},
   "outputs": [],
   "source": []
  }
 ],
 "metadata": {
  "kernelspec": {
   "display_name": "Python 3 (ipykernel)",
   "language": "python",
   "name": "python3"
  },
  "language_info": {
   "codemirror_mode": {
    "name": "ipython",
    "version": 3
   },
   "file_extension": ".py",
   "mimetype": "text/x-python",
   "name": "python",
   "nbconvert_exporter": "python",
   "pygments_lexer": "ipython3",
   "version": "3.12.1"
  }
 },
 "nbformat": 4,
 "nbformat_minor": 5
}
